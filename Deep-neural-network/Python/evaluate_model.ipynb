{
 "cells": [
  {
   "cell_type": "code",
   "execution_count": 4,
   "metadata": {},
   "outputs": [],
   "source": [
    "from keras.layers import Input, Dense, Dropout, BatchNormalization, PReLU, LeakyReLU\n",
    "from keras.models import Model, Sequential\n",
    "from keras import optimizers\n",
    "from keras import regularizers\n",
    "import numpy\n",
    "from scipy.io import loadmat\n",
    "import tensorflow as tf\n",
    "from sklearn.preprocessing import normalize, scale\n",
    "from sklearn.metrics import r2_score\n",
    "from sklearn.preprocessing import minmax_scale\n",
    "from datetime import datetime\n",
    "import pandas as pd\n",
    "import keras"
   ]
  },
  {
   "cell_type": "code",
   "execution_count": 5,
   "metadata": {},
   "outputs": [],
   "source": [
    "Xtrain=scale(pd.read_csv('featureTrain.csv' ,dtype='double').dropna(axis=1),axis=1)\n",
    "Ytrain=pd.read_csv('labelTrain.csv' ,dtype='double').dropna(axis=1)\n",
    "\n",
    "Xtest=scale(pd.read_csv('featureTest.csv' ,dtype='double').dropna(axis=1),axis=1)\n",
    "Ytest=pd.read_csv('labelTest.csv' ,dtype='double').dropna(axis=1)"
   ]
  },
  {
   "cell_type": "code",
   "execution_count": 9,
   "metadata": {},
   "outputs": [],
   "source": [
    "nn_predictor=keras.models.load_model(\"2018-06-29 08:26:39440890.hdf5\")"
   ]
  },
  {
   "cell_type": "code",
   "execution_count": 10,
   "metadata": {},
   "outputs": [
    {
     "name": "stdout",
     "output_type": "stream",
     "text": [
      "0.5023235121974782\n"
     ]
    }
   ],
   "source": [
    "print(r2_score(Ytest,nn_predictor.predict(Xtest)))"
   ]
  },
  {
   "cell_type": "code",
   "execution_count": null,
   "metadata": {},
   "outputs": [],
   "source": []
  }
 ],
 "metadata": {
  "kernelspec": {
   "display_name": "Python 3",
   "language": "python",
   "name": "python3"
  },
  "language_info": {
   "codemirror_mode": {
    "name": "ipython",
    "version": 3
   },
   "file_extension": ".py",
   "mimetype": "text/x-python",
   "name": "python",
   "nbconvert_exporter": "python",
   "pygments_lexer": "ipython3",
   "version": "3.6.4"
  }
 },
 "nbformat": 4,
 "nbformat_minor": 2
}
